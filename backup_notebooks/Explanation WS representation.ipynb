{
 "cells": [
  {
   "cell_type": "markdown",
   "id": "f8833662-375d-4079-accd-00f12d744693",
   "metadata": {},
   "source": [
    "# Ottimo globale\n",
    "\n",
    "\n",
    "Se $E \\in \\mathbb R^{N\\times h}$ é in grado di rappresentare i dati $X \\in \\mathbb R^{N \\times d}$ allora\n",
    "\n",
    "\\begin{equation}\n",
    "    \\begin{split}\n",
    "    {\\bf x}_i & = \\frac{1}{\\sum_{j\\neq i}^N k({\\bf E}_i,{\\bf E}_j) }\\sum_{j\\neq i}^N k({\\bf E}_i,{\\bf E}_j) {\\bf x}_j\n",
    "    \\hspace{2em} \\forall i\n",
    "    \\end{split}\n",
    "\\end{equation}\n",
    "\n",
    "Da cui\n",
    "\n",
    "\\begin{equation}\n",
    "    \\begin{split}\n",
    "    \\sum_{j\\neq i}^N  K_{ij}  {\\bf x}_i & = \\sum_{j\\neq i}^N K_{ij} {\\bf x}_j\n",
    "    \\\\ \n",
    "    \\sum_{j}^N  K_{ij}  {\\bf x}_i - K_{ii} {\\bf x}_i & = \\sum_{j}^N K_{ij} {\\bf x}_j  - K_{ii} {\\bf x}_i\n",
    "    \\\\ \n",
    "    \\sum_{j}^N  K_{ij}  {\\bf x}_i & = \\sum_{j}^N K_{ij} {\\bf x}_j\n",
    "    \\\\ \n",
    "    \\sum_{j}^N  K_{ij} ({\\bf e}^T_i X )^T & =  \\sum_{j}^N K_{ij} ({\\bf e}^T_j X )^T\n",
    "    \\\\ \n",
    "    \\sum_{j}^N  K_{ij} X^T {\\bf e}_i & =  {\\bf e}_i^T \\sum_{j}^N  K {\\bf e}_j X^T {\\bf e}_j\n",
    "    \\\\ \n",
    "    {\\bf e}^T_i K {\\bf 1}X^T {\\bf e}_i & =  {\\bf e}_i ^T K {\\bf e}_j X^T \n",
    "    \\end{split}\n",
    "\\end{equation}"
   ]
  },
  {
   "cell_type": "markdown",
   "id": "f0812b1f-aeb0-481a-bba2-1757d3833129",
   "metadata": {},
   "source": [
    "Da cui\n",
    "\\begin{equation}\n",
    "\\end{equation}"
   ]
  }
 ],
 "metadata": {
  "kernelspec": {
   "display_name": "Python 3 (ipykernel)",
   "language": "python",
   "name": "python3"
  },
  "language_info": {
   "codemirror_mode": {
    "name": "ipython",
    "version": 3
   },
   "file_extension": ".py",
   "mimetype": "text/x-python",
   "name": "python",
   "nbconvert_exporter": "python",
   "pygments_lexer": "ipython3",
   "version": "3.9.7"
  }
 },
 "nbformat": 4,
 "nbformat_minor": 5
}
