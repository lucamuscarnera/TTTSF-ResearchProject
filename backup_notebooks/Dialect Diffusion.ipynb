{
 "cells": [
  {
   "cell_type": "code",
   "execution_count": 1,
   "id": "2b4f5906-8eb2-4f77-bfcb-f89c6d9d79dd",
   "metadata": {},
   "outputs": [],
   "source": [
    "import networkx as nx\n",
    "import numpy as np\n",
    "import matplotlib.pyplot as plt\n",
    "import jax\n",
    "import jax.numpy as jnp"
   ]
  },
  {
   "cell_type": "markdown",
   "id": "3d1a6d28-ee62-4200-9e99-998bf883a97c",
   "metadata": {},
   "source": [
    "# Communication Graph"
   ]
  },
  {
   "cell_type": "code",
   "execution_count": 12,
   "id": "d1fee44a-4537-4475-9667-3a5f7a749f13",
   "metadata": {},
   "outputs": [],
   "source": [
    "G = nx.karate_club_graph()\n",
    "A = nx.adjacency_matrix(G).toarray()\n",
    "A = (A > 0) * 1"
   ]
  },
  {
   "cell_type": "markdown",
   "id": "fcf998c4-3100-4b09-a3ee-0aff96aaf663",
   "metadata": {},
   "source": [
    "# Model"
   ]
  },
  {
   "cell_type": "markdown",
   "id": "59fa5653-fdf4-4df1-9835-efcd1cd1a57f",
   "metadata": {},
   "source": [
    "\\begin{equation}\n",
    "    I^{(k + 1)} = \\underbrace{ \\eta I^{(k)} }_{opinion \\ momentum} +  \\underbrace{ (1 - \\eta) }_{permeability}  \\underbrace{ \\operatorname{tanh} \\left(  \\langle I^{(k)} \\rangle_{\\mathcal N}   - I^{(k)}   \\right) }_{influence}\n",
    "\\end{equation}"
   ]
  },
  {
   "cell_type": "code",
   "execution_count": 296,
   "id": "d72e2ff6-e5f6-4b28-a556-35ed866e60e8",
   "metadata": {},
   "outputs": [
    {
     "data": {
      "text/plain": [
       "11"
      ]
     },
     "execution_count": 296,
     "metadata": {},
     "output_type": "execute_result"
    }
   ],
   "source": [
    "np.array(G.degree)[:,1].argmin()"
   ]
  },
  {
   "cell_type": "code",
   "execution_count": 337,
   "id": "aa95fc8b-182c-4c3d-bf90-faa38dd0b864",
   "metadata": {},
   "outputs": [
    {
     "data": {
      "text/plain": [
       "(500,)"
      ]
     },
     "execution_count": 337,
     "metadata": {},
     "output_type": "execute_result"
    }
   ],
   "source": [
    "np.random.seed(123)\n",
    "I   = jnp.sign(np.random.uniform(size = len(A))  * 2 - 1 )\n",
    "eta = (1 - 1e-2)\n",
    "a   = 3e-2\n",
    "B   = A / A.mean(axis = 1)[:,None]\n",
    "\n",
    "Is = []\n",
    "tau  = 1e-3\n",
    "for i in range(500):\n",
    "    I += tau * ( (1-eta) * jnp.tanh( a * (A @ I - I) ) + eta * I)\n",
    "    Is.append(I[11])\n",
    "\n",
    "Is = jnp.array(Is)\n",
    "\n",
    "Is.shape"
   ]
  },
  {
   "cell_type": "code",
   "execution_count": 338,
   "id": "f0644fe7-743d-44c2-860f-d512536d9ff2",
   "metadata": {},
   "outputs": [
    {
     "data": {
      "image/png": "[encoded data removed]",
      "text/plain": [
       "<Figure size 640x480 with 1 Axes>"
      ]
     },
     "metadata": {},
     "output_type": "display_data"
    }
   ],
   "source": [
    "plt.plot(Is)\n",
    "plt.show()"
   ]
  },
  {
   "cell_type": "code",
   "execution_count": null,
   "id": "4d55a301-ffd4-4edc-b8df-b0c504c7d10e",
   "metadata": {},
   "outputs": [],
   "source": []
  },
  {
   "cell_type": "code",
   "execution_count": null,
   "id": "06be0e55-21ab-45f3-94e1-c6742835eb77",
   "metadata": {},
   "outputs": [],
   "source": []
  },
  {
   "cell_type": "code",
   "execution_count": null,
   "id": "e9c1b235-2fd7-4e60-b08a-c68758cf9f41",
   "metadata": {},
   "outputs": [],
   "source": []
  }
 ],
 "metadata": {
  "kernelspec": {
   "display_name": "Python 3 (ipykernel)",
   "language": "python",
   "name": "python3"
  },
  "language_info": {
   "codemirror_mode": {
    "name": "ipython",
    "version": 3
   },
   "file_extension": ".py",
   "mimetype": "text/x-python",
   "name": "python",
   "nbconvert_exporter": "python",
   "pygments_lexer": "ipython3",
   "version": "3.9.7"
  }
 },
 "nbformat": 4,
 "nbformat_minor": 5
}
